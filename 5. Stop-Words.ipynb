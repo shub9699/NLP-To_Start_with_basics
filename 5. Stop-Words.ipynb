{
 "cells": [
  {
   "cell_type": "markdown",
   "metadata": {},
   "source": [
    "# Stop Words\n"
   ]
  },
  {
   "cell_type": "code",
   "execution_count": 1,
   "metadata": {},
   "outputs": [],
   "source": [
    "# Perform standard imports:\n",
    "import spacy\n",
    "nlp = spacy.load('en_core_web_sm')"
   ]
  },
  {
   "cell_type": "code",
   "execution_count": 2,
   "metadata": {},
   "outputs": [
    {
     "name": "stdout",
     "output_type": "stream",
     "text": [
      "{'own', 'us', 'made', \"n't\", 'may', 'unless', 'than', 'whose', 'put', 'whereupon', 'why', 'again', 'no', 'used', 'another', 'beyond', 'elsewhere', 'never', 'hereafter', 'mine', 'three', 'give', 'nine', 'first', '‘s', 'thru', 'using', 'per', \"'ve\", 'herself', 'somehow', 'yours', 'other', 'via', 'however', 'besides', '’re', 'such', 'me', 'thereby', 'along', 'somewhere', \"'re\", 'always', 'a', 'whenever', 'six', 'hundred', 'cannot', 'without', 'some', 'fifteen', 'make', 'down', 'who', 'eleven', 'neither', 'sixty', 'ever', 'yourself', 'becomes', 'throughout', 'fifty', 'they', 'during', 'there', 'anything', 'except', 'any', 'of', 'say', 'n‘t', 'whereby', 'towards', 'under', 'too', 'nothing', 'among', 'can', 'hence', 'whether', 'latterly', 'front', '’s', 'twenty', 'each', 'is', 'full', 'serious', 'off', 'over', 'had', 'were', 'else', 'seeming', 'namely', 'next', 'move', 'take', 'these', '’m', 'forty', 'sometime', 'otherwise', 'them', 'ours', 'many', 'side', '‘m', 'various', 'on', '’ll', 'every', 'whence', 'others', 'our', 'beside', 'have', 'beforehand', 'four', 'formerly', 'since', 'must', '‘re', 'bottom', 'so', 'does', 'although', '’ve', '‘ll', 'because', 'onto', 'wherein', 'him', 'in', 'below', 'where', 'done', 'least', 'call', 'very', 'or', \"'m\", 'almost', 'already', 'becoming', 'across', 'everywhere', 'anyhow', 'seemed', 'all', 'last', 'yourselves', 'which', 'she', 'twelve', 'alone', 'to', 'seems', 'became', 'whoever', 'moreover', 'eight', 'well', 'at', 'whole', 'top', 'therefore', 'sometimes', 'less', 'either', 'ourselves', 'most', 'hereby', 'due', 'between', 'both', 'show', 'should', 'get', 'might', 'nowhere', 'then', 'here', 'wherever', 'will', 'regarding', 'before', 'hereupon', 'perhaps', 'that', 'this', 'nobody', \"'ll\", 'none', 'did', 'toward', 'nor', 'her', 'his', 'everything', 'how', 'against', 'rather', 'now', 'once', 'thereupon', 'it', 'into', 'not', 'himself', 'anywhere', 'you', 'often', 'if', 'behind', \"'d\", 'see', 'few', 'nevertheless', 'also', '‘d', 'up', '‘ve', 'former', 'several', 'one', 'same', 'about', 'amount', 'two', 'your', 'third', 'noone', 'afterwards', 'by', 'are', 'he', 'could', 'more', 'doing', 'n’t', 'much', 'keep', 'upon', 'while', 'be', 'even', 'whatever', 'an', 'being', 'anyway', 'further', 'until', 'back', 'five', 'what', 'would', 'out', 'part', 'meanwhile', 'someone', 'quite', 'but', 'go', 'hers', 'anyone', 'whereas', 'themselves', 'just', 'their', 'when', 'amongst', 'do', '’d', 'thence', 'am', 'we', 'the', 'ten', 'from', 'mostly', 'through', 'seem', 'whom', 'been', 'myself', 'everyone', 'herein', 'around', 'with', 'though', 'above', 'empty', 'itself', 'has', 'after', 'yet', 'and', 'those', 'thus', 'was', 'as', 'within', 'whither', 'together', 'still', 'name', 'latter', 'whereafter', 'thereafter', 're', 'only', 'i', 'for', \"'s\", 'something', 'ca', 'please', 'really', 'indeed', 'enough', 'its', 'become', 'therein', 'my'}\n"
     ]
    }
   ],
   "source": [
    "# Print the set of spaCy's default stop words (remember that sets are unordered):\n",
    "print(nlp.Defaults.stop_words)"
   ]
  },
  {
   "cell_type": "code",
   "execution_count": 4,
   "metadata": {},
   "outputs": [
    {
     "data": {
      "text/plain": [
       "326"
      ]
     },
     "execution_count": 4,
     "metadata": {},
     "output_type": "execute_result"
    }
   ],
   "source": [
    "len(nlp.Defaults.stop_words)"
   ]
  },
  {
   "cell_type": "markdown",
   "metadata": {},
   "source": [
    "## To see if a word is a stop word"
   ]
  },
  {
   "cell_type": "code",
   "execution_count": 4,
   "metadata": {},
   "outputs": [
    {
     "data": {
      "text/plain": [
       "True"
      ]
     },
     "execution_count": 4,
     "metadata": {},
     "output_type": "execute_result"
    }
   ],
   "source": [
    "nlp.vocab['myself'].is_stop"
   ]
  },
  {
   "cell_type": "code",
   "execution_count": 5,
   "metadata": {},
   "outputs": [
    {
     "data": {
      "text/plain": [
       "False"
      ]
     },
     "execution_count": 5,
     "metadata": {},
     "output_type": "execute_result"
    }
   ],
   "source": [
    "nlp.vocab['mystery'].is_stop"
   ]
  },
  {
   "cell_type": "markdown",
   "metadata": {},
   "source": [
    "## To add a stop word\n"
   ]
  },
  {
   "cell_type": "code",
   "execution_count": 2,
   "metadata": {},
   "outputs": [],
   "source": [
    "# Add the word to the set of stop words. Use lowercase!\n",
    "nlp.Defaults.stop_words.add('btw')"
   ]
  },
  {
   "cell_type": "code",
   "execution_count": 3,
   "metadata": {},
   "outputs": [],
   "source": [
    "# Set the stop_word tag on the lexeme\n",
    "nlp.vocab['btw'].is_stop = True"
   ]
  },
  {
   "cell_type": "code",
   "execution_count": 4,
   "metadata": {},
   "outputs": [
    {
     "data": {
      "text/plain": [
       "327"
      ]
     },
     "execution_count": 4,
     "metadata": {},
     "output_type": "execute_result"
    }
   ],
   "source": [
    "len(nlp.Defaults.stop_words)"
   ]
  },
  {
   "cell_type": "code",
   "execution_count": 8,
   "metadata": {},
   "outputs": [
    {
     "data": {
      "text/plain": [
       "True"
      ]
     },
     "execution_count": 8,
     "metadata": {},
     "output_type": "execute_result"
    }
   ],
   "source": [
    "nlp.vocab['btw'].is_stop"
   ]
  },
  {
   "cell_type": "markdown",
   "metadata": {},
   "source": [
    "## To remove a stop word\n"
   ]
  },
  {
   "cell_type": "code",
   "execution_count": 9,
   "metadata": {},
   "outputs": [],
   "source": [
    "# Remove the word from the set of stop words\n",
    "nlp.Defaults.stop_words.remove('beyond')"
   ]
  },
  {
   "cell_type": "code",
   "execution_count": 10,
   "metadata": {},
   "outputs": [],
   "source": [
    "# Remove the stop_word tag from the lexeme\n",
    "nlp.vocab['beyond'].is_stop = False"
   ]
  },
  {
   "cell_type": "code",
   "execution_count": 11,
   "metadata": {},
   "outputs": [
    {
     "data": {
      "text/plain": [
       "326"
      ]
     },
     "execution_count": 11,
     "metadata": {},
     "output_type": "execute_result"
    }
   ],
   "source": [
    "len(nlp.Defaults.stop_words)"
   ]
  },
  {
   "cell_type": "code",
   "execution_count": 12,
   "metadata": {},
   "outputs": [
    {
     "data": {
      "text/plain": [
       "False"
      ]
     },
     "execution_count": 12,
     "metadata": {},
     "output_type": "execute_result"
    }
   ],
   "source": [
    "nlp.vocab['beyond'].is_stop"
   ]
  }
 ],
 "metadata": {
  "kernelspec": {
   "display_name": "Python 3",
   "language": "python",
   "name": "python3"
  },
  "language_info": {
   "codemirror_mode": {
    "name": "ipython",
    "version": 3
   },
   "file_extension": ".py",
   "mimetype": "text/x-python",
   "name": "python",
   "nbconvert_exporter": "python",
   "pygments_lexer": "ipython3",
   "version": "3.7.4"
  }
 },
 "nbformat": 4,
 "nbformat_minor": 2
}
